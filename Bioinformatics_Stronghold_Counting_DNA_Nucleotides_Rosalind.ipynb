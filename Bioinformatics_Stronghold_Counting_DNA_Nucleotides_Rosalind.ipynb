{
 "cells": [
  {
   "cell_type": "markdown",
   "metadata": {},
   "source": [
    "# <font color=red> Counting DNA Nucleotides\n"
   ]
  },
  {
   "cell_type": "code",
   "execution_count": null,
   "metadata": {},
   "outputs": [],
   "source": [
    "# In this exercise we need to count it of the DNA molecules:  adenine (A), cytosine (C), guanine (G), and thymine (T).\n",
    "    #This exercise also is a sugestion of the Rosalind site"
   ]
  },
  {
   "cell_type": "code",
   "execution_count": 6,
   "metadata": {},
   "outputs": [
    {
     "name": "stdout",
     "output_type": "stream",
     "text": [
      "{'A': 20, 'G': 17, 'C': 12, 'T': 21}\n"
     ]
    }
   ],
   "source": [
    "DNA_dict= {}\n",
    "\n",
    "DNAstring=\"AGCTTTTCATTCTGACTGCAACGGGCAATATGTCTCTGTGTGGATTAAAAAAAGAGTGTCTGATAGCAGC\"\n",
    "for DNA in DNAstring:\n",
    "    if (DNA not in DNA_dict.keys()):\n",
    "        DNA_dict[DNA]=1\n",
    "    else:\n",
    "        DNA_dict[DNA]+=1\n",
    "print(DNA_dict)\n",
    "        \n",
    "        "
   ]
  },
  {
   "cell_type": "code",
   "execution_count": 8,
   "metadata": {},
   "outputs": [
    {
     "name": "stdout",
     "output_type": "stream",
     "text": [
      "20\n"
     ]
    }
   ],
   "source": [
    "print(DNAstring.count(\"A\"))"
   ]
  },
  {
   "cell_type": "code",
   "execution_count": 10,
   "metadata": {},
   "outputs": [
    {
     "name": "stdout",
     "output_type": "stream",
     "text": [
      "20   12   17   21\n"
     ]
    }
   ],
   "source": [
    "print(DNAstring.count(\"A\"),\" \", DNAstring.count(\"C\"),\" \",DNAstring.count(\"G\"),\" \", DNAstring.count(\"T\"))"
   ]
  },
  {
   "cell_type": "code",
   "execution_count": 11,
   "metadata": {},
   "outputs": [
    {
     "name": "stdout",
     "output_type": "stream",
     "text": [
      "239   257   208   244\n"
     ]
    }
   ],
   "source": [
    "DNAstring2=\"AGACAAGTGCGAATACACGATAACTCCGCTTCGGTGGTCTAACTCGCACAGCTTTATTAGGAGCGGACCCACAATAGATTAGTACCCTGATCTTAGCCTGAGTTCCATGCCTGAACCTTAGCGGAAGAGCCCACCACACTAGCCTAGGTTTGAGACCCCCCATGGTTAGAGGGTTTCCTCCCGCGAGAACCAGCAGTAAACCCGACTGTCTATTGTCGTCCAGAACGCCCTTAATCTCATAGGATATGAGGCACAATGAATATATAAGTTTAACATACCGTGGCCGAGCATGATTCTTTCGCAGACCAACAGTCTACTTCAAGGTTTCAGTTTTGGTCTTCCCGGCCTGAAGTAGATCTAAGCCTTAGCAAGGCTCCCAGAATTGAGCTAAGACTAACTAAAAGTGCTCGTGCCAGCAGTACCATTGATAGTAAGTCGTGCCTCCGGATCGCTTCTACTTTCTCCCGCCTCTGCTCATGGATGCCCCGCAAAATGTCGTCTCCAGTCGACACAGATTGTTAAGTGATGGTAACAAACGTCCGCAGCGCATTTGATAATGCGTTTTACTACTCGCATAAGCTATGCGACGGATATATTGTCTAGCACCTCCCGGGCACGCACCTTGATGATGTTCGTACTCGACATAGTTCCTACATCGTCATTATATGGTCTACCATGGTATTCATCTGGCCTACGATGGGTCGTCTTACAGGACGAACACGTGGCACCCATCGTTGCTGCGGACCCAAGTCAGGGGTCAGTCTTCCTATCATTTTATCAGACTTTCTCCCGTTTAGACACAGCCAGGACTGCCACTTGACTCTATGAGCGAATACGTTTTCGCAGACTGGACGCCGCTTGTACTACGCTAGTCAAAAACAGGAAATGTAAGAATACAGCGCTTAGATGGACGTTACGTGCCACATTCCAGGTCGCACGACCCCCGTT\"\n",
    "print(DNAstring2.count(\"A\"),\" \", DNAstring2.count(\"C\"),\" \",DNAstring2.count(\"G\"),\" \", DNAstring2.count(\"T\"))"
   ]
  },
  {
   "cell_type": "markdown",
   "metadata": {},
   "source": [
    "This is [a DNA Problem from Rosalind site][Rosalind]\n",
    "\n",
    "[Rosalind]: http://rosalind.info/problems/dna/ \"Rosalind Counting DNA Nucleotides\""
   ]
  },
  {
   "cell_type": "code",
   "execution_count": null,
   "metadata": {},
   "outputs": [],
   "source": []
  }
 ],
 "metadata": {
  "kernelspec": {
   "display_name": "Python 3",
   "language": "python",
   "name": "python3"
  },
  "language_info": {
   "codemirror_mode": {
    "name": "ipython",
    "version": 3
   },
   "file_extension": ".py",
   "mimetype": "text/x-python",
   "name": "python",
   "nbconvert_exporter": "python",
   "pygments_lexer": "ipython3",
   "version": "3.7.6"
  }
 },
 "nbformat": 4,
 "nbformat_minor": 4
}
